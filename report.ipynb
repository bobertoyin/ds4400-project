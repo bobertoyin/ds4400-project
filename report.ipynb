{
 "cells": [
  {
   "cell_type": "markdown",
   "metadata": {},
   "source": [
    "# Library Imports"
   ]
  },
  {
   "cell_type": "code",
   "execution_count": 70,
   "metadata": {},
   "outputs": [],
   "source": [
    "# import necessary libraries\n",
    "import pandas as pd\n",
    "from collections import Counter"
   ]
  },
  {
   "cell_type": "markdown",
   "metadata": {},
   "source": [
    "# Parsing and Cleaning Data"
   ]
  },
  {
   "cell_type": "code",
   "execution_count": 71,
   "metadata": {},
   "outputs": [
    {
     "data": {
      "text/html": [
       "<div>\n",
       "<style scoped>\n",
       "    .dataframe tbody tr th:only-of-type {\n",
       "        vertical-align: middle;\n",
       "    }\n",
       "\n",
       "    .dataframe tbody tr th {\n",
       "        vertical-align: top;\n",
       "    }\n",
       "\n",
       "    .dataframe thead th {\n",
       "        text-align: right;\n",
       "    }\n",
       "</style>\n",
       "<table border=\"1\" class=\"dataframe\">\n",
       "  <thead>\n",
       "    <tr style=\"text-align: right;\">\n",
       "      <th></th>\n",
       "      <th>genre</th>\n",
       "      <th>artist_name</th>\n",
       "      <th>track_name</th>\n",
       "      <th>track_id</th>\n",
       "      <th>popularity</th>\n",
       "      <th>acousticness</th>\n",
       "      <th>danceability</th>\n",
       "      <th>duration_ms</th>\n",
       "      <th>energy</th>\n",
       "      <th>instrumentalness</th>\n",
       "      <th>key</th>\n",
       "      <th>liveness</th>\n",
       "      <th>loudness</th>\n",
       "      <th>mode</th>\n",
       "      <th>speechiness</th>\n",
       "      <th>tempo</th>\n",
       "      <th>time_signature</th>\n",
       "      <th>valence</th>\n",
       "    </tr>\n",
       "  </thead>\n",
       "  <tbody>\n",
       "    <tr>\n",
       "      <th>0</th>\n",
       "      <td>Movie</td>\n",
       "      <td>Henri Salvador</td>\n",
       "      <td>C'est beau de faire un Show</td>\n",
       "      <td>0BRjO6ga9RKCKjfDqeFgWV</td>\n",
       "      <td>0</td>\n",
       "      <td>0.611</td>\n",
       "      <td>0.389</td>\n",
       "      <td>99373</td>\n",
       "      <td>0.910</td>\n",
       "      <td>0.000</td>\n",
       "      <td>C#</td>\n",
       "      <td>0.3460</td>\n",
       "      <td>-1.828</td>\n",
       "      <td>Major</td>\n",
       "      <td>0.0525</td>\n",
       "      <td>166.969</td>\n",
       "      <td>4/4</td>\n",
       "      <td>0.814</td>\n",
       "    </tr>\n",
       "    <tr>\n",
       "      <th>1</th>\n",
       "      <td>Movie</td>\n",
       "      <td>Martin &amp; les fées</td>\n",
       "      <td>Perdu d'avance (par Gad Elmaleh)</td>\n",
       "      <td>0BjC1NfoEOOusryehmNudP</td>\n",
       "      <td>1</td>\n",
       "      <td>0.246</td>\n",
       "      <td>0.590</td>\n",
       "      <td>137373</td>\n",
       "      <td>0.737</td>\n",
       "      <td>0.000</td>\n",
       "      <td>F#</td>\n",
       "      <td>0.1510</td>\n",
       "      <td>-5.559</td>\n",
       "      <td>Minor</td>\n",
       "      <td>0.0868</td>\n",
       "      <td>174.003</td>\n",
       "      <td>4/4</td>\n",
       "      <td>0.816</td>\n",
       "    </tr>\n",
       "    <tr>\n",
       "      <th>2</th>\n",
       "      <td>Movie</td>\n",
       "      <td>Joseph Williams</td>\n",
       "      <td>Don't Let Me Be Lonely Tonight</td>\n",
       "      <td>0CoSDzoNIKCRs124s9uTVy</td>\n",
       "      <td>3</td>\n",
       "      <td>0.952</td>\n",
       "      <td>0.663</td>\n",
       "      <td>170267</td>\n",
       "      <td>0.131</td>\n",
       "      <td>0.000</td>\n",
       "      <td>C</td>\n",
       "      <td>0.1030</td>\n",
       "      <td>-13.879</td>\n",
       "      <td>Minor</td>\n",
       "      <td>0.0362</td>\n",
       "      <td>99.488</td>\n",
       "      <td>5/4</td>\n",
       "      <td>0.368</td>\n",
       "    </tr>\n",
       "    <tr>\n",
       "      <th>3</th>\n",
       "      <td>Movie</td>\n",
       "      <td>Henri Salvador</td>\n",
       "      <td>Dis-moi Monsieur Gordon Cooper</td>\n",
       "      <td>0Gc6TVm52BwZD07Ki6tIvf</td>\n",
       "      <td>0</td>\n",
       "      <td>0.703</td>\n",
       "      <td>0.240</td>\n",
       "      <td>152427</td>\n",
       "      <td>0.326</td>\n",
       "      <td>0.000</td>\n",
       "      <td>C#</td>\n",
       "      <td>0.0985</td>\n",
       "      <td>-12.178</td>\n",
       "      <td>Major</td>\n",
       "      <td>0.0395</td>\n",
       "      <td>171.758</td>\n",
       "      <td>4/4</td>\n",
       "      <td>0.227</td>\n",
       "    </tr>\n",
       "    <tr>\n",
       "      <th>4</th>\n",
       "      <td>Movie</td>\n",
       "      <td>Fabien Nataf</td>\n",
       "      <td>Ouverture</td>\n",
       "      <td>0IuslXpMROHdEPvSl1fTQK</td>\n",
       "      <td>4</td>\n",
       "      <td>0.950</td>\n",
       "      <td>0.331</td>\n",
       "      <td>82625</td>\n",
       "      <td>0.225</td>\n",
       "      <td>0.123</td>\n",
       "      <td>F</td>\n",
       "      <td>0.2020</td>\n",
       "      <td>-21.150</td>\n",
       "      <td>Major</td>\n",
       "      <td>0.0456</td>\n",
       "      <td>140.576</td>\n",
       "      <td>4/4</td>\n",
       "      <td>0.390</td>\n",
       "    </tr>\n",
       "  </tbody>\n",
       "</table>\n",
       "</div>"
      ],
      "text/plain": [
       "   genre        artist_name  ... time_signature valence\n",
       "0  Movie     Henri Salvador  ...            4/4   0.814\n",
       "1  Movie  Martin & les fées  ...            4/4   0.816\n",
       "2  Movie    Joseph Williams  ...            5/4   0.368\n",
       "3  Movie     Henri Salvador  ...            4/4   0.227\n",
       "4  Movie       Fabien Nataf  ...            4/4   0.390\n",
       "\n",
       "[5 rows x 18 columns]"
      ]
     },
     "execution_count": 71,
     "metadata": {},
     "output_type": "execute_result"
    }
   ],
   "source": [
    "file_name = \"SpotifyFeatures.csv\"\n",
    "spotify_data = pd.read_csv(file_name)\n",
    "spotify_data.dropna()\n",
    "spotify_data.head()"
   ]
  },
  {
   "cell_type": "code",
   "execution_count": 72,
   "metadata": {},
   "outputs": [
    {
     "name": "stdout",
     "output_type": "stream",
     "text": [
      "Unique values for genre: {'Movie': 7806, 'R&B': 8992, 'A Capella': 119, 'Alternative': 9263, 'Country': 8664, 'Dance': 8701, 'Electronic': 9377, 'Anime': 8936, 'Folk': 9299, 'Blues': 9023, 'Opera': 8280, 'Hip-Hop': 9295, \"Children's Music\": 5403, 'Children’s Music': 9353, 'Rap': 9232, 'Indie': 9543, 'Classical': 9256, 'Pop': 9386, 'Reggae': 8771, 'Reggaeton': 8927, 'Jazz': 9441, 'Rock': 9272, 'Ska': 8874, 'Comedy': 9681, 'Soul': 9089, 'Soundtrack': 9646, 'World': 9096}\n",
      "Unique values for key: {'C#': 23201, 'F#': 15222, 'C': 27583, 'F': 20279, 'G': 26390, 'E': 17390, 'D#': 7566, 'G#': 15159, 'D': 24077, 'A#': 15526, 'A': 22671, 'B': 17661}\n",
      "Unique values for mode: {'Major': 151744, 'Minor': 80981}\n",
      "Unique values for time_signature: {'4/4': 200760, '5/4': 5238, '3/4': 24111, '1/4': 2608, '0/4': 8}\n",
      "Number of tracks with 0/4 time signature: 8\n"
     ]
    }
   ],
   "source": [
    "def get_counter_from_column(column):\n",
    "    unique = Counter(spotify_data[column])\n",
    "    print(f\"Unique values for {column}: {dict(unique)}\")\n",
    "    return unique\n",
    "\n",
    "# getting an idea of what non-numerical values we might have for data so we can map them to numbers later\n",
    "# excluding things such as artist_name, track_name, and track_id due to the sheer size and number of unique elements\n",
    "column_names = [\"genre\", \"key\", \"mode\", \"time_signature\"]\n",
    "unique_genres, unique_keys, unique_modes, unique_time_signatures = [get_counter_from_column(column) for column in column_names]\n",
    "\n",
    "# 0/4 time signature seems to be an outlier value for time signature, so we'll likely want to remove them\n",
    "zero_four_time_signature = spotify_data[spotify_data[\"time_signature\"] == \"0/4\"]\n",
    "print(f\"Number of tracks with 0/4 time signature: {len(zero_four_time_signature)}\")"
   ]
  },
  {
   "cell_type": "code",
   "execution_count": 73,
   "metadata": {},
   "outputs": [
    {
     "name": "stdout",
     "output_type": "stream",
     "text": [
      "Number of tracks with 0/4 time signature: 0\n",
      "Genre to integer mapping: {'Movie': 0, 'R&B': 1, 'A Capella': 2, 'Alternative': 3, 'Country': 4, 'Dance': 5, 'Electronic': 6, 'Anime': 7, 'Folk': 8, 'Blues': 9, 'Opera': 10, 'Hip-Hop': 11, \"Children's Music\": 12, 'Children’s Music': 13, 'Rap': 14, 'Indie': 15, 'Classical': 16, 'Pop': 17, 'Reggae': 18, 'Reggaeton': 19, 'Jazz': 20, 'Rock': 21, 'Ska': 22, 'Comedy': 23, 'Soul': 24, 'Soundtrack': 25, 'World': 26}\n",
      "Key to integer mapping: {'C#': 0, 'F#': 1, 'C': 2, 'F': 3, 'G': 4, 'E': 5, 'D#': 6, 'G#': 7, 'D': 8, 'A#': 9, 'A': 10, 'B': 11}\n",
      "Mode to integer mapping: {'Major': 0, 'Minor': 1}\n",
      "Time signature to integer mapping: {'4/4': 0, '5/4': 1, '3/4': 2, '1/4': 3, '0/4': 4}\n"
     ]
    }
   ],
   "source": [
    "def remove_time_signature(dataframe, time_signature):\n",
    "    return dataframe[dataframe[\"time_signature\"] != time_signature]\n",
    "\n",
    "def create_integer_mapping(items):\n",
    "    return {item: i for i, item in enumerate(items)}\n",
    "\n",
    "# remove rows that have a 0/4 time signature \n",
    "spotify_data = remove_time_signature(spotify_data, \"0/4\")\n",
    "zero_four_time_signature = spotify_data[spotify_data[\"time_signature\"] == \"0/4\"]\n",
    "print(f\"Number of tracks with 0/4 time signature: {len(zero_four_time_signature)}\")\n",
    "\n",
    "genre_integer_mapping = create_integer_mapping(list(unique_genres))\n",
    "print(f\"Genre to integer mapping: {genre_integer_mapping}\")\n",
    "key_integer_mapping = create_integer_mapping(list(unique_keys))\n",
    "print(f\"Key to integer mapping: {key_integer_mapping}\")\n",
    "mode_integer_mapping = create_integer_mapping(list(unique_modes))\n",
    "print(f\"Mode to integer mapping: {mode_integer_mapping}\")\n",
    "time_signature_mapping = create_integer_mapping(list(unique_time_signatures))\n",
    "print(f\"Time signature to integer mapping: {time_signature_mapping}\")"
   ]
  },
  {
   "cell_type": "markdown",
   "metadata": {},
   "source": [
    "# "
   ]
  }
 ],
 "metadata": {
  "interpreter": {
   "hash": "aee8b7b246df8f9039afb4144a1f6fd8d2ca17a180786b69acc140d282b71a49"
  },
  "kernelspec": {
   "display_name": "Python 3.9.7 64-bit",
   "language": "python",
   "name": "python3"
  },
  "language_info": {
   "codemirror_mode": {
    "name": "ipython",
    "version": 3
   },
   "file_extension": ".py",
   "mimetype": "text/x-python",
   "name": "python",
   "nbconvert_exporter": "python",
   "pygments_lexer": "ipython3",
   "version": "3.6.8"
  },
  "orig_nbformat": 4
 },
 "nbformat": 4,
 "nbformat_minor": 2
}
